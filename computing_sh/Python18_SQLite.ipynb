{
  "nbformat": 4,
  "nbformat_minor": 0,
  "metadata": {
    "colab": {
      "name": "Python18 - SQLite.ipynb",
      "provenance": []
    },
    "kernelspec": {
      "name": "python3",
      "display_name": "Python 3"
    }
  },
  "cells": [
    {
      "cell_type": "code",
      "metadata": {
        "id": "E968L1GY6qym",
        "outputId": "f138d573-880d-4d2a-ad4e-7dd1022fe0f5",
        "colab": {
          "base_uri": "https://localhost:8080/",
          "height": 34
        }
      },
      "source": [
        "import sqlite3\n",
        "\n",
        "# create connection to database\n",
        "connection = sqlite3.connect(\"school.db\")\n",
        "\n",
        "# create cursor to access records\n",
        "cursor = connection.cursor()\n",
        "\n",
        "# execute SQL statement\n",
        "#cursor.execute(\"CREATE TABLE IF NOT EXISTS Student (StudentID INTEGER, StudentName TEXT NOT NULL, DOB TEXT, PRIMARY KEY (StudentID));\")\n",
        "#cursor.execute(\"INSERT INTO Student (StudentID, StudentName, DOB) VALUES (2, 'Tom', '2003-01-31');\")\n",
        "#cursor.execute(\"UPDATE Student SET StudentName = 'Mary' WHERE StudentID = 2;\")\n",
        "#cursor.execute(\"SELECT * FROM Student;\") # return all records\n",
        "cursor.execute(\"SELECT COUNT(*) FROM Student;\") # number of records\n",
        "#records = cursor.fetchall()\n",
        "#for record in records:\n",
        "  #print(record)\n",
        "length = cursor.fetchone()\n",
        "print(length[0])\n",
        "\n",
        "# make changes permanent\n",
        "connection.commit()\n",
        "\n",
        "# close connection (and cursor)\n",
        "connection.close()"
      ],
      "execution_count": null,
      "outputs": [
        {
          "output_type": "stream",
          "text": [
            "2\n"
          ],
          "name": "stdout"
        }
      ]
    },
    {
      "cell_type": "markdown",
      "metadata": {
        "id": "2qE5TfH_xyVg"
      },
      "source": [
        "Task: Try a DELETE SQL statement"
      ]
    },
    {
      "cell_type": "code",
      "metadata": {
        "id": "NSHYEzcqx-ga"
      },
      "source": [
        "cursor.execute(\"DELETE FROM Student WHERE StudentID = 2;\")"
      ],
      "execution_count": null,
      "outputs": []
    },
    {
      "cell_type": "markdown",
      "metadata": {
        "id": "PYVkKZ76ybtM"
      },
      "source": [
        "Task: Implement a more robust INSERT SQL statement"
      ]
    },
    {
      "cell_type": "code",
      "metadata": {
        "id": "FLnL6PXryg_x"
      },
      "source": [
        "cursor.execute(\"INSERT INTO Student (StudentID, StudentName, DOB) VALUES (?, ?, ?);\", \\\n",
        "               (2, 'Tom', '2003-01-31'))"
      ],
      "execution_count": null,
      "outputs": []
    },
    ,
    {
      "cell_type": "markdown",
      "metadata": {
        "id": "2qE5TfH_xyVg"
      },
      "source": [
        "Task: Try ORDER BY field"
      ]
    },
    {
      "cell_type": "code",
      "metadata": {
        "id": "NSHYEzcqx-ga"
      },
      "source": [
        "# sort by ascending date of birth\n"
        "cursor.execute(\"SELECT StudentName FROM Student ORDER BY DOB;\")"
        "\n", 
        "# sort by descending date of birth\n"
        "cursor.execute(\"SELECT StudentName FROM Student ORDER BY DOB DESC;\")"
      ], 
      "execution_count": null,
      "outputs": []
    }
  ]
}
